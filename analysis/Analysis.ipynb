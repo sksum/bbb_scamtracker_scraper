{
 "cells": [
  {
   "cell_type": "code",
   "execution_count": 1,
   "metadata": {},
   "outputs": [
    {
     "data": {
      "text/plain": [
       "'1.19.5'"
      ]
     },
     "execution_count": 1,
     "metadata": {},
     "output_type": "execute_result"
    }
   ],
   "source": [
    "import numpy as np\n",
    "import matplotlib.pyplot as plt\n",
    "np.version.version"
   ]
  },
  {
   "cell_type": "code",
   "execution_count": 14,
   "metadata": {
    "scrolled": true
   },
   "outputs": [
    {
     "name": "stdout",
     "output_type": "stream",
     "text": [
      "    a  co             c    d        p       s  si      ssi  stt  st  ...  \\\n",
      "0 NaN NaN  Apr 12, 2021  0.0  J4Y 0H9  491259   0  PTHZAFC    8 NaN  ...   \n",
      "\n",
      "  SearchError  ScamTitle   BusinessName             C    D  \\\n",
      "0                         Cobalt Agence  Apr 12, 2021  0.0   \n",
      "\n",
      "                                         Description        P     PKID  S  \\\n",
      "0  Job offer, Everything was stranger, perfect op...  J4Y 0H9  PTHZAFC  8   \n",
      "\n",
      "   ScamID  \n",
      "0  491259  \n",
      "\n",
      "[1 rows x 24 columns]\n"
     ]
    }
   ],
   "source": [
    "# Import pandas \n",
    "import pandas as pd \n",
    "  \n",
    "# Read csv file  \n",
    "table = pd.read_json(\"../raw/canada_with_details.json\") \n",
    "# Print it out if you want to...\n",
    "print(table.head(1))\n",
    "table_n = table.shape[0]"
   ]
  },
  {
   "cell_type": "code",
   "execution_count": 28,
   "metadata": {},
   "outputs": [],
   "source": [
    "states = {\n",
    "    \"NL\":{\"NAME\":{\"A\"},\"Num\":0 ,\"Pop\":522.3},\n",
    "    \"NS\":{\"NAME\":{\"B\"},\"Num\":0 ,\"Pop\":967.1},\n",
    "    \"PE\":{\"NAME\":{\"C\"},\"Num\":0 ,\"Pop\":157.4},\n",
    "    \"NB\":{\"NAME\":{\"E\"},\"Num\":0 ,\"Pop\":967.1},\n",
    "    \"QC\":{\"NAME\":{\"G\",\"H\",\"J\"},\"Num\":0 ,\"Pop\":8494.5},\n",
    "    \"ON\":{\"NAME\":{\"K\",\"L\",\"M\",\"N\",\"P\"},\"Num\":0 ,\"Pop\":14467.1},\n",
    "    \"MB\":{\"NAME\":\"R\",\"Num\":0 ,\"Pop\":1381.9},\n",
    "    \"SK\":{\"NAME\":\"S\",\"Num\":0 ,\"Pop\":1195.1},\n",
    "    \"AB\":{\"NAME\":\"T\",\"Num\":0 ,\"Pop\":4472.8},\n",
    "    \"BC\":{\"NAME\":\"V\",\"Num\":0 ,\"Pop\":5103.5},\n",
    "    \"NU/NT\":{\"NAME\":\"X\",\"Num\":0  ,\"Pop\":84.4},\n",
    "    \"YT\" :{\"NAME\":\"Y\",\"Num\":0 ,\"Pop\":41.3}\n",
    "}\n",
    "for i in range(table_n):\n",
    "    letter =  table[\"P\"][i][0]\n",
    "    for j in states:\n",
    "        if letter in states[j][\"NAME\"]:\n",
    "            states[j][\"Num\"] +=1\n",
    "for j in states:\n",
    "    states[j][\"Rel\"] = states[j][\"Num\"]/states[j][\"Pop\"]*100\n",
    "            "
   ]
  },
  {
   "cell_type": "code",
   "execution_count": 29,
   "metadata": {
    "scrolled": true
   },
   "outputs": [
    {
     "data": {
      "text/plain": [
       "{'NL': {'NAME': {'A'}, 'Num': 12, 'Pop': 522.3, 'Rel': 2.2975301550832854},\n",
       " 'NS': {'NAME': {'B'}, 'Num': 32, 'Pop': 967.1, 'Rel': 3.3088615448247336},\n",
       " 'PE': {'NAME': {'C'}, 'Num': 2, 'Pop': 157.4, 'Rel': 1.2706480304955527},\n",
       " 'NB': {'NAME': {'E'}, 'Num': 15, 'Pop': 967.1, 'Rel': 1.551028849136594},\n",
       " 'QC': {'NAME': {'G', 'H', 'J'},\n",
       "  'Num': 43,\n",
       "  'Pop': 8494.5,\n",
       "  'Rel': 0.5062099005238684},\n",
       " 'ON': {'NAME': {'K', 'L', 'M', 'N', 'P'},\n",
       "  'Num': 513,\n",
       "  'Pop': 14467.1,\n",
       "  'Rel': 3.545976733415819},\n",
       " 'MB': {'NAME': 'R', 'Num': 64, 'Pop': 1381.9, 'Rel': 4.631304725378102},\n",
       " 'SK': {'NAME': 'S', 'Num': 26, 'Pop': 1195.1, 'Rel': 2.1755501631662626},\n",
       " 'AB': {'NAME': 'T', 'Num': 311, 'Pop': 4472.8, 'Rel': 6.9531389733500255},\n",
       " 'BC': {'NAME': 'V', 'Num': 165, 'Pop': 5103.5, 'Rel': 3.2330753404526305},\n",
       " 'NU/NT': {'NAME': 'X', 'Num': 0, 'Pop': 84.4, 'Rel': 0.0},\n",
       " 'YT': {'NAME': 'Y', 'Num': 1, 'Pop': 41.3, 'Rel': 2.421307506053269}}"
      ]
     },
     "execution_count": 29,
     "metadata": {},
     "output_type": "execute_result"
    }
   ],
   "source": [
    "states"
   ]
  },
  {
   "cell_type": "code",
   "execution_count": 31,
   "metadata": {
    "scrolled": true
   },
   "outputs": [
    {
     "data": {
      "text/plain": [
       "{'NU/NT': {'NAME': 'X', 'Num': 0, 'Pop': 84.4, 'Rel': 0.0},\n",
       " 'QC': {'NAME': {'G', 'H', 'J'},\n",
       "  'Num': 43,\n",
       "  'Pop': 8494.5,\n",
       "  'Rel': 0.5062099005238684},\n",
       " 'PE': {'NAME': {'C'}, 'Num': 2, 'Pop': 157.4, 'Rel': 1.2706480304955527},\n",
       " 'NB': {'NAME': {'E'}, 'Num': 15, 'Pop': 967.1, 'Rel': 1.551028849136594},\n",
       " 'SK': {'NAME': 'S', 'Num': 26, 'Pop': 1195.1, 'Rel': 2.1755501631662626},\n",
       " 'NL': {'NAME': {'A'}, 'Num': 12, 'Pop': 522.3, 'Rel': 2.2975301550832854},\n",
       " 'YT': {'NAME': 'Y', 'Num': 1, 'Pop': 41.3, 'Rel': 2.421307506053269},\n",
       " 'BC': {'NAME': 'V', 'Num': 165, 'Pop': 5103.5, 'Rel': 3.2330753404526305},\n",
       " 'NS': {'NAME': {'B'}, 'Num': 32, 'Pop': 967.1, 'Rel': 3.3088615448247336},\n",
       " 'ON': {'NAME': {'K', 'L', 'M', 'N', 'P'},\n",
       "  'Num': 513,\n",
       "  'Pop': 14467.1,\n",
       "  'Rel': 3.545976733415819},\n",
       " 'MB': {'NAME': 'R', 'Num': 64, 'Pop': 1381.9, 'Rel': 4.631304725378102},\n",
       " 'AB': {'NAME': 'T', 'Num': 311, 'Pop': 4472.8, 'Rel': 6.9531389733500255}}"
      ]
     },
     "execution_count": 31,
     "metadata": {},
     "output_type": "execute_result"
    }
   ],
   "source": [
    "dict(sorted(states.items(), key=lambda item: item[1][\"Rel\"]))"
   ]
  },
  {
   "cell_type": "markdown",
   "metadata": {},
   "source": [
    "| State                     | unemp |            Relative Scams    |\n",
    "|---------------------------|-------|------------------------------|\n",
    "| Quebec:                   | 8.8%  |           0.5062099005238684 |\n",
    "| Prince Edward Island      | 10.4% |           1.2706480304955527 |\n",
    "| New Burnswick             | 9.8%  |           1.551028849136594  |\n",
    "| saskatchewan              | 8.3%  |           2.1755501631662626 |\n",
    "| newfoundland and labrador | 13.7% |           2.2975301550832854 |\n",
    "| Yukon                     | 5.2%  |           2.421307506053269  |\n",
    "| British Columbia          | 8.8%  |           3.2330753404526305 |\n",
    "| Nova Scotia               | 9.6%  |           3.3088615448247336 |\n",
    "| Ontario                   | 9.6%  |           3.545976733415819  |\n",
    "| Manitoba                  | 7.9%  |           4.631304725378102  |\n",
    "| Alberta                   | 11.3% |           6.9531389733500255 |"
   ]
  },
  {
   "cell_type": "markdown",
   "metadata": {},
   "source": [
    "# Textual Analysis"
   ]
  },
  {
   "cell_type": "code",
   "execution_count": 3,
   "metadata": {
    "scrolled": true
   },
   "outputs": [],
   "source": [
    "# collect sentiment\n",
    "from textblob import TextBlob\n",
    "_dict = {\"Sentiment\":[]}\n",
    "for i in range(table.shape[0]):\n",
    "    _dict[\"Sentiment\"].append(TextBlob(str(table[\"Description\"][i])).sentiment.polarity)\n",
    "    "
   ]
  },
  {
   "cell_type": "code",
   "execution_count": 4,
   "metadata": {},
   "outputs": [
    {
     "data": {
      "text/plain": [
       "0.09048380890471067"
      ]
     },
     "execution_count": 4,
     "metadata": {},
     "output_type": "execute_result"
    }
   ],
   "source": [
    "from statistics import mean \n",
    "mean(_dict[\"Sentiment\"])\n",
    "#chatter plot"
   ]
  },
  {
   "cell_type": "code",
   "execution_count": 7,
   "metadata": {},
   "outputs": [
    {
     "data": {
      "text/plain": [
       "246277.33000000002"
      ]
     },
     "execution_count": 7,
     "metadata": {},
     "output_type": "execute_result"
    }
   ],
   "source": [
    "import nltk\n",
    "money = []\n",
    "for i in range(table.shape[0]):\n",
    "    money.append(table['d'][i]) \n",
    "sum(money)"
   ]
  },
  {
   "cell_type": "code",
   "execution_count": 8,
   "metadata": {},
   "outputs": [
    {
     "ename": "ModuleNotFoundError",
     "evalue": "No module named 'rake_nltk'",
     "output_type": "error",
     "traceback": [
      "\u001b[0;31m---------------------------------------------------------------------------\u001b[0m",
      "\u001b[0;31mModuleNotFoundError\u001b[0m                       Traceback (most recent call last)",
      "\u001b[0;32m<ipython-input-8-d7db1cae2e87>\u001b[0m in \u001b[0;36m<module>\u001b[0;34m\u001b[0m\n\u001b[0;32m----> 1\u001b[0;31m \u001b[0;32mfrom\u001b[0m \u001b[0mrake_nltk\u001b[0m \u001b[0;32mimport\u001b[0m \u001b[0mRake\u001b[0m\u001b[0;34m\u001b[0m\u001b[0m\n\u001b[0m\u001b[1;32m      2\u001b[0m \u001b[0m_dict\u001b[0m\u001b[0;34m[\u001b[0m\u001b[0;34m\"Keywords\"\u001b[0m\u001b[0;34m]\u001b[0m \u001b[0;34m=\u001b[0m \u001b[0;34m[\u001b[0m\u001b[0;34m]\u001b[0m\u001b[0;34m\u001b[0m\u001b[0m\n\u001b[1;32m      3\u001b[0m \u001b[0;34m\u001b[0m\u001b[0m\n\u001b[1;32m      4\u001b[0m \u001b[0;32mfor\u001b[0m \u001b[0mi\u001b[0m \u001b[0;32min\u001b[0m \u001b[0mrange\u001b[0m\u001b[0;34m(\u001b[0m\u001b[0mtable\u001b[0m\u001b[0;34m.\u001b[0m\u001b[0mshape\u001b[0m\u001b[0;34m[\u001b[0m\u001b[0;36m0\u001b[0m\u001b[0;34m]\u001b[0m\u001b[0;34m-\u001b[0m \u001b[0;36m300\u001b[0m\u001b[0;34m)\u001b[0m\u001b[0;34m:\u001b[0m\u001b[0;34m\u001b[0m\u001b[0m\n\u001b[1;32m      5\u001b[0m     \u001b[0mr\u001b[0m \u001b[0;34m=\u001b[0m \u001b[0mRake\u001b[0m\u001b[0;34m(\u001b[0m\u001b[0;34m)\u001b[0m\u001b[0;34m\u001b[0m\u001b[0m\n",
      "\u001b[0;31mModuleNotFoundError\u001b[0m: No module named 'rake_nltk'"
     ]
    }
   ],
   "source": [
    "from rake_nltk import Rake\n",
    "_dict[\"Keywords\"] = []\n",
    "\n",
    "for i in range(table.shape[0]- 300):\n",
    "    r = Rake()\n",
    "    r.extract_keywords_from_text(str(table[\"Description\"][i]))\n",
    "    \n",
    "    keywords = r.get_ranked_phrases()\n",
    "    if not len(keywords):\n",
    "        keyword = \"\"\n",
    "    else:\n",
    "        keyword = keywords[0]\n",
    "    _dict[\"Keywords\"].append (keyword)\n"
   ]
  },
  {
   "cell_type": "code",
   "execution_count": 5,
   "metadata": {},
   "outputs": [
    {
     "ename": "NameError",
     "evalue": "name 'nltk' is not defined",
     "output_type": "error",
     "traceback": [
      "\u001b[0;31m---------------------------------------------------------------------------\u001b[0m",
      "\u001b[0;31mNameError\u001b[0m                                 Traceback (most recent call last)",
      "\u001b[0;32m<ipython-input-5-22df896b020d>\u001b[0m in \u001b[0;36m<module>\u001b[0;34m\u001b[0m\n\u001b[0;32m----> 1\u001b[0;31m \u001b[0mfd\u001b[0m \u001b[0;34m=\u001b[0m \u001b[0mnltk\u001b[0m\u001b[0;34m.\u001b[0m\u001b[0mFreqDist\u001b[0m\u001b[0;34m(\u001b[0m\u001b[0m_dict\u001b[0m\u001b[0;34m[\u001b[0m\u001b[0;34m\"Keywords\"\u001b[0m\u001b[0;34m]\u001b[0m\u001b[0;34m)\u001b[0m\u001b[0;34m\u001b[0m\u001b[0m\n\u001b[0m",
      "\u001b[0;31mNameError\u001b[0m: name 'nltk' is not defined"
     ]
    }
   ],
   "source": [
    "fd = nltk.FreqDist(_dict[\"Keywords\"])"
   ]
  },
  {
   "cell_type": "code",
   "execution_count": 19,
   "metadata": {
    "scrolled": true
   },
   "outputs": [
    {
     "data": {
      "text/plain": [
       "[('currently hiring 23 people', 51),\n",
       " ('social security number', 47),\n",
       " ('secret shopper', 27),\n",
       " ('web store jobs dot org', 27),\n",
       " ('interview via google hangouts', 19),\n",
       " ('hiring 23 people', 19),\n",
       " ('17 -$ 32 hr', 17),\n",
       " ('never got paid', 16),\n",
       " ('buy gift cards', 15),\n",
       " ('secret shopper job', 14)]"
      ]
     },
     "execution_count": 19,
     "metadata": {},
     "output_type": "execute_result"
    }
   ],
   "source": [
    "fd.most_common(10)"
   ]
  },
  {
   "cell_type": "code",
   "execution_count": 7,
   "metadata": {},
   "outputs": [],
   "source": [
    "import plotly.graph_objects as go\n"
   ]
  },
  {
   "cell_type": "code",
   "execution_count": 51,
   "metadata": {},
   "outputs": [],
   "source": [
    "b.reverse()\n",
    "a.reverse()"
   ]
  },
  {
   "cell_type": "code",
   "execution_count": 52,
   "metadata": {
    "scrolled": true
   },
   "outputs": [
    {
     "name": "stdout",
     "output_type": "stream",
     "text": [
      "232.0\n"
     ]
    },
    {
     "data": {
      "application/vnd.plotly.v1+json": {
       "config": {
        "plotlyServerURL": "https://plot.ly"
       },
       "data": [
        {
         "type": "scatter",
         "x": [
          "15/Feb",
          "15/Mar",
          "15/Apr",
          "15/May",
          "15/Jun",
          "15/Jul",
          "15/Aug",
          "15/Sep",
          "15/Oct",
          "15/Nov",
          "15/Dec",
          "16/Jan",
          "16/Feb",
          "16/Mar",
          "16/Apr",
          "16/May",
          "16/Jun",
          "16/Jul",
          "16/Aug",
          "16/Sep",
          "16/Oct",
          "16/Nov",
          "16/Dec",
          "17/Jan",
          "17/Feb",
          "17/Mar",
          "17/Apr",
          "17/May",
          "17/Jun",
          "17/Jul",
          "17/Aug",
          "17/Sep",
          "17/Oct",
          "17/Nov",
          "17/Dec",
          "18/Jan",
          "18/Feb",
          "18/Mar",
          "18/Apr",
          "18/May",
          "18/Jun",
          "18/Jul",
          "18/Aug",
          "18/Sep",
          "18/Oct",
          "18/Nov",
          "18/Dec",
          "19/Jan",
          "19/Feb",
          "19/Mar",
          "19/Apr",
          "19/May",
          "19/Jun",
          "19/Jul",
          "19/Aug",
          "19/Sep",
          "19/Oct",
          "19/Nov",
          "19/Dec",
          "20/Jan",
          "20/Feb",
          "20/Mar",
          "20/Apr",
          "20/May",
          "20/Jun",
          "20/Jul",
          "20/Aug",
          "20/Sep",
          "20/Oct",
          "20/Nov",
          "20/Dec",
          "21/Jan",
          "21/Feb",
          "21/Mar",
          "21/Apr"
         ],
         "y": [
          2,
          24,
          13,
          28,
          28,
          36,
          39,
          63,
          141,
          238,
          184,
          180,
          225,
          196,
          174,
          156,
          170,
          129,
          135,
          111,
          143,
          123,
          171,
          211,
          206,
          219,
          189,
          142,
          129,
          124,
          158,
          232,
          237,
          236,
          208,
          270,
          274,
          293,
          314,
          423,
          416,
          413,
          494,
          484,
          508,
          322,
          253,
          282,
          238,
          285,
          212,
          263,
          306,
          324,
          341,
          297,
          267,
          218,
          214,
          235,
          267,
          229,
          289,
          314,
          269,
          301,
          293,
          264,
          234,
          212,
          237,
          271,
          252,
          273,
          81
         ]
        }
       ],
       "layout": {
        "shapes": [
         {
          "line": {
           "color": "green",
           "dash": "dash",
           "width": 3
          },
          "type": "line",
          "x0": 0,
          "x1": 1,
          "xref": "x domain",
          "y0": 232,
          "y1": 232,
          "yref": "y"
         }
        ],
        "template": {
         "data": {
          "bar": [
           {
            "error_x": {
             "color": "#2a3f5f"
            },
            "error_y": {
             "color": "#2a3f5f"
            },
            "marker": {
             "line": {
              "color": "#E5ECF6",
              "width": 0.5
             }
            },
            "type": "bar"
           }
          ],
          "barpolar": [
           {
            "marker": {
             "line": {
              "color": "#E5ECF6",
              "width": 0.5
             }
            },
            "type": "barpolar"
           }
          ],
          "carpet": [
           {
            "aaxis": {
             "endlinecolor": "#2a3f5f",
             "gridcolor": "white",
             "linecolor": "white",
             "minorgridcolor": "white",
             "startlinecolor": "#2a3f5f"
            },
            "baxis": {
             "endlinecolor": "#2a3f5f",
             "gridcolor": "white",
             "linecolor": "white",
             "minorgridcolor": "white",
             "startlinecolor": "#2a3f5f"
            },
            "type": "carpet"
           }
          ],
          "choropleth": [
           {
            "colorbar": {
             "outlinewidth": 0,
             "ticks": ""
            },
            "type": "choropleth"
           }
          ],
          "contour": [
           {
            "colorbar": {
             "outlinewidth": 0,
             "ticks": ""
            },
            "colorscale": [
             [
              0,
              "#0d0887"
             ],
             [
              0.1111111111111111,
              "#46039f"
             ],
             [
              0.2222222222222222,
              "#7201a8"
             ],
             [
              0.3333333333333333,
              "#9c179e"
             ],
             [
              0.4444444444444444,
              "#bd3786"
             ],
             [
              0.5555555555555556,
              "#d8576b"
             ],
             [
              0.6666666666666666,
              "#ed7953"
             ],
             [
              0.7777777777777778,
              "#fb9f3a"
             ],
             [
              0.8888888888888888,
              "#fdca26"
             ],
             [
              1,
              "#f0f921"
             ]
            ],
            "type": "contour"
           }
          ],
          "contourcarpet": [
           {
            "colorbar": {
             "outlinewidth": 0,
             "ticks": ""
            },
            "type": "contourcarpet"
           }
          ],
          "heatmap": [
           {
            "colorbar": {
             "outlinewidth": 0,
             "ticks": ""
            },
            "colorscale": [
             [
              0,
              "#0d0887"
             ],
             [
              0.1111111111111111,
              "#46039f"
             ],
             [
              0.2222222222222222,
              "#7201a8"
             ],
             [
              0.3333333333333333,
              "#9c179e"
             ],
             [
              0.4444444444444444,
              "#bd3786"
             ],
             [
              0.5555555555555556,
              "#d8576b"
             ],
             [
              0.6666666666666666,
              "#ed7953"
             ],
             [
              0.7777777777777778,
              "#fb9f3a"
             ],
             [
              0.8888888888888888,
              "#fdca26"
             ],
             [
              1,
              "#f0f921"
             ]
            ],
            "type": "heatmap"
           }
          ],
          "heatmapgl": [
           {
            "colorbar": {
             "outlinewidth": 0,
             "ticks": ""
            },
            "colorscale": [
             [
              0,
              "#0d0887"
             ],
             [
              0.1111111111111111,
              "#46039f"
             ],
             [
              0.2222222222222222,
              "#7201a8"
             ],
             [
              0.3333333333333333,
              "#9c179e"
             ],
             [
              0.4444444444444444,
              "#bd3786"
             ],
             [
              0.5555555555555556,
              "#d8576b"
             ],
             [
              0.6666666666666666,
              "#ed7953"
             ],
             [
              0.7777777777777778,
              "#fb9f3a"
             ],
             [
              0.8888888888888888,
              "#fdca26"
             ],
             [
              1,
              "#f0f921"
             ]
            ],
            "type": "heatmapgl"
           }
          ],
          "histogram": [
           {
            "marker": {
             "colorbar": {
              "outlinewidth": 0,
              "ticks": ""
             }
            },
            "type": "histogram"
           }
          ],
          "histogram2d": [
           {
            "colorbar": {
             "outlinewidth": 0,
             "ticks": ""
            },
            "colorscale": [
             [
              0,
              "#0d0887"
             ],
             [
              0.1111111111111111,
              "#46039f"
             ],
             [
              0.2222222222222222,
              "#7201a8"
             ],
             [
              0.3333333333333333,
              "#9c179e"
             ],
             [
              0.4444444444444444,
              "#bd3786"
             ],
             [
              0.5555555555555556,
              "#d8576b"
             ],
             [
              0.6666666666666666,
              "#ed7953"
             ],
             [
              0.7777777777777778,
              "#fb9f3a"
             ],
             [
              0.8888888888888888,
              "#fdca26"
             ],
             [
              1,
              "#f0f921"
             ]
            ],
            "type": "histogram2d"
           }
          ],
          "histogram2dcontour": [
           {
            "colorbar": {
             "outlinewidth": 0,
             "ticks": ""
            },
            "colorscale": [
             [
              0,
              "#0d0887"
             ],
             [
              0.1111111111111111,
              "#46039f"
             ],
             [
              0.2222222222222222,
              "#7201a8"
             ],
             [
              0.3333333333333333,
              "#9c179e"
             ],
             [
              0.4444444444444444,
              "#bd3786"
             ],
             [
              0.5555555555555556,
              "#d8576b"
             ],
             [
              0.6666666666666666,
              "#ed7953"
             ],
             [
              0.7777777777777778,
              "#fb9f3a"
             ],
             [
              0.8888888888888888,
              "#fdca26"
             ],
             [
              1,
              "#f0f921"
             ]
            ],
            "type": "histogram2dcontour"
           }
          ],
          "mesh3d": [
           {
            "colorbar": {
             "outlinewidth": 0,
             "ticks": ""
            },
            "type": "mesh3d"
           }
          ],
          "parcoords": [
           {
            "line": {
             "colorbar": {
              "outlinewidth": 0,
              "ticks": ""
             }
            },
            "type": "parcoords"
           }
          ],
          "pie": [
           {
            "automargin": true,
            "type": "pie"
           }
          ],
          "scatter": [
           {
            "marker": {
             "colorbar": {
              "outlinewidth": 0,
              "ticks": ""
             }
            },
            "type": "scatter"
           }
          ],
          "scatter3d": [
           {
            "line": {
             "colorbar": {
              "outlinewidth": 0,
              "ticks": ""
             }
            },
            "marker": {
             "colorbar": {
              "outlinewidth": 0,
              "ticks": ""
             }
            },
            "type": "scatter3d"
           }
          ],
          "scattercarpet": [
           {
            "marker": {
             "colorbar": {
              "outlinewidth": 0,
              "ticks": ""
             }
            },
            "type": "scattercarpet"
           }
          ],
          "scattergeo": [
           {
            "marker": {
             "colorbar": {
              "outlinewidth": 0,
              "ticks": ""
             }
            },
            "type": "scattergeo"
           }
          ],
          "scattergl": [
           {
            "marker": {
             "colorbar": {
              "outlinewidth": 0,
              "ticks": ""
             }
            },
            "type": "scattergl"
           }
          ],
          "scattermapbox": [
           {
            "marker": {
             "colorbar": {
              "outlinewidth": 0,
              "ticks": ""
             }
            },
            "type": "scattermapbox"
           }
          ],
          "scatterpolar": [
           {
            "marker": {
             "colorbar": {
              "outlinewidth": 0,
              "ticks": ""
             }
            },
            "type": "scatterpolar"
           }
          ],
          "scatterpolargl": [
           {
            "marker": {
             "colorbar": {
              "outlinewidth": 0,
              "ticks": ""
             }
            },
            "type": "scatterpolargl"
           }
          ],
          "scatterternary": [
           {
            "marker": {
             "colorbar": {
              "outlinewidth": 0,
              "ticks": ""
             }
            },
            "type": "scatterternary"
           }
          ],
          "surface": [
           {
            "colorbar": {
             "outlinewidth": 0,
             "ticks": ""
            },
            "colorscale": [
             [
              0,
              "#0d0887"
             ],
             [
              0.1111111111111111,
              "#46039f"
             ],
             [
              0.2222222222222222,
              "#7201a8"
             ],
             [
              0.3333333333333333,
              "#9c179e"
             ],
             [
              0.4444444444444444,
              "#bd3786"
             ],
             [
              0.5555555555555556,
              "#d8576b"
             ],
             [
              0.6666666666666666,
              "#ed7953"
             ],
             [
              0.7777777777777778,
              "#fb9f3a"
             ],
             [
              0.8888888888888888,
              "#fdca26"
             ],
             [
              1,
              "#f0f921"
             ]
            ],
            "type": "surface"
           }
          ],
          "table": [
           {
            "cells": {
             "fill": {
              "color": "#EBF0F8"
             },
             "line": {
              "color": "white"
             }
            },
            "header": {
             "fill": {
              "color": "#C8D4E3"
             },
             "line": {
              "color": "white"
             }
            },
            "type": "table"
           }
          ]
         },
         "layout": {
          "annotationdefaults": {
           "arrowcolor": "#2a3f5f",
           "arrowhead": 0,
           "arrowwidth": 1
          },
          "autotypenumbers": "strict",
          "coloraxis": {
           "colorbar": {
            "outlinewidth": 0,
            "ticks": ""
           }
          },
          "colorscale": {
           "diverging": [
            [
             0,
             "#8e0152"
            ],
            [
             0.1,
             "#c51b7d"
            ],
            [
             0.2,
             "#de77ae"
            ],
            [
             0.3,
             "#f1b6da"
            ],
            [
             0.4,
             "#fde0ef"
            ],
            [
             0.5,
             "#f7f7f7"
            ],
            [
             0.6,
             "#e6f5d0"
            ],
            [
             0.7,
             "#b8e186"
            ],
            [
             0.8,
             "#7fbc41"
            ],
            [
             0.9,
             "#4d9221"
            ],
            [
             1,
             "#276419"
            ]
           ],
           "sequential": [
            [
             0,
             "#0d0887"
            ],
            [
             0.1111111111111111,
             "#46039f"
            ],
            [
             0.2222222222222222,
             "#7201a8"
            ],
            [
             0.3333333333333333,
             "#9c179e"
            ],
            [
             0.4444444444444444,
             "#bd3786"
            ],
            [
             0.5555555555555556,
             "#d8576b"
            ],
            [
             0.6666666666666666,
             "#ed7953"
            ],
            [
             0.7777777777777778,
             "#fb9f3a"
            ],
            [
             0.8888888888888888,
             "#fdca26"
            ],
            [
             1,
             "#f0f921"
            ]
           ],
           "sequentialminus": [
            [
             0,
             "#0d0887"
            ],
            [
             0.1111111111111111,
             "#46039f"
            ],
            [
             0.2222222222222222,
             "#7201a8"
            ],
            [
             0.3333333333333333,
             "#9c179e"
            ],
            [
             0.4444444444444444,
             "#bd3786"
            ],
            [
             0.5555555555555556,
             "#d8576b"
            ],
            [
             0.6666666666666666,
             "#ed7953"
            ],
            [
             0.7777777777777778,
             "#fb9f3a"
            ],
            [
             0.8888888888888888,
             "#fdca26"
            ],
            [
             1,
             "#f0f921"
            ]
           ]
          },
          "colorway": [
           "#636efa",
           "#EF553B",
           "#00cc96",
           "#ab63fa",
           "#FFA15A",
           "#19d3f3",
           "#FF6692",
           "#B6E880",
           "#FF97FF",
           "#FECB52"
          ],
          "font": {
           "color": "#2a3f5f"
          },
          "geo": {
           "bgcolor": "white",
           "lakecolor": "white",
           "landcolor": "#E5ECF6",
           "showlakes": true,
           "showland": true,
           "subunitcolor": "white"
          },
          "hoverlabel": {
           "align": "left"
          },
          "hovermode": "closest",
          "mapbox": {
           "style": "light"
          },
          "paper_bgcolor": "white",
          "plot_bgcolor": "#E5ECF6",
          "polar": {
           "angularaxis": {
            "gridcolor": "white",
            "linecolor": "white",
            "ticks": ""
           },
           "bgcolor": "#E5ECF6",
           "radialaxis": {
            "gridcolor": "white",
            "linecolor": "white",
            "ticks": ""
           }
          },
          "scene": {
           "xaxis": {
            "backgroundcolor": "#E5ECF6",
            "gridcolor": "white",
            "gridwidth": 2,
            "linecolor": "white",
            "showbackground": true,
            "ticks": "",
            "zerolinecolor": "white"
           },
           "yaxis": {
            "backgroundcolor": "#E5ECF6",
            "gridcolor": "white",
            "gridwidth": 2,
            "linecolor": "white",
            "showbackground": true,
            "ticks": "",
            "zerolinecolor": "white"
           },
           "zaxis": {
            "backgroundcolor": "#E5ECF6",
            "gridcolor": "white",
            "gridwidth": 2,
            "linecolor": "white",
            "showbackground": true,
            "ticks": "",
            "zerolinecolor": "white"
           }
          },
          "shapedefaults": {
           "line": {
            "color": "#2a3f5f"
           }
          },
          "ternary": {
           "aaxis": {
            "gridcolor": "white",
            "linecolor": "white",
            "ticks": ""
           },
           "baxis": {
            "gridcolor": "white",
            "linecolor": "white",
            "ticks": ""
           },
           "bgcolor": "#E5ECF6",
           "caxis": {
            "gridcolor": "white",
            "linecolor": "white",
            "ticks": ""
           }
          },
          "title": {
           "x": 0.05
          },
          "xaxis": {
           "automargin": true,
           "gridcolor": "white",
           "linecolor": "white",
           "ticks": "",
           "title": {
            "standoff": 15
           },
           "zerolinecolor": "white",
           "zerolinewidth": 2
          },
          "yaxis": {
           "automargin": true,
           "gridcolor": "white",
           "linecolor": "white",
           "ticks": "",
           "title": {
            "standoff": 15
           },
           "zerolinecolor": "white",
           "zerolinewidth": 2
          }
         }
        }
       }
      },
      "text/html": [
       "<div>                            <div id=\"ae32f424-68a6-44aa-a3a8-8298113eb6f8\" class=\"plotly-graph-div\" style=\"height:525px; width:100%;\"></div>            <script type=\"text/javascript\">                require([\"plotly\"], function(Plotly) {                    window.PLOTLYENV=window.PLOTLYENV || {};                                    if (document.getElementById(\"ae32f424-68a6-44aa-a3a8-8298113eb6f8\")) {                    Plotly.newPlot(                        \"ae32f424-68a6-44aa-a3a8-8298113eb6f8\",                        [{\"type\": \"scatter\", \"x\": [\"15/Feb\", \"15/Mar\", \"15/Apr\", \"15/May\", \"15/Jun\", \"15/Jul\", \"15/Aug\", \"15/Sep\", \"15/Oct\", \"15/Nov\", \"15/Dec\", \"16/Jan\", \"16/Feb\", \"16/Mar\", \"16/Apr\", \"16/May\", \"16/Jun\", \"16/Jul\", \"16/Aug\", \"16/Sep\", \"16/Oct\", \"16/Nov\", \"16/Dec\", \"17/Jan\", \"17/Feb\", \"17/Mar\", \"17/Apr\", \"17/May\", \"17/Jun\", \"17/Jul\", \"17/Aug\", \"17/Sep\", \"17/Oct\", \"17/Nov\", \"17/Dec\", \"18/Jan\", \"18/Feb\", \"18/Mar\", \"18/Apr\", \"18/May\", \"18/Jun\", \"18/Jul\", \"18/Aug\", \"18/Sep\", \"18/Oct\", \"18/Nov\", \"18/Dec\", \"19/Jan\", \"19/Feb\", \"19/Mar\", \"19/Apr\", \"19/May\", \"19/Jun\", \"19/Jul\", \"19/Aug\", \"19/Sep\", \"19/Oct\", \"19/Nov\", \"19/Dec\", \"20/Jan\", \"20/Feb\", \"20/Mar\", \"20/Apr\", \"20/May\", \"20/Jun\", \"20/Jul\", \"20/Aug\", \"20/Sep\", \"20/Oct\", \"20/Nov\", \"20/Dec\", \"21/Jan\", \"21/Feb\", \"21/Mar\", \"21/Apr\"], \"y\": [2, 24, 13, 28, 28, 36, 39, 63, 141, 238, 184, 180, 225, 196, 174, 156, 170, 129, 135, 111, 143, 123, 171, 211, 206, 219, 189, 142, 129, 124, 158, 232, 237, 236, 208, 270, 274, 293, 314, 423, 416, 413, 494, 484, 508, 322, 253, 282, 238, 285, 212, 263, 306, 324, 341, 297, 267, 218, 214, 235, 267, 229, 289, 314, 269, 301, 293, 264, 234, 212, 237, 271, 252, 273, 81]}],                        {\"shapes\": [{\"line\": {\"color\": \"green\", \"dash\": \"dash\", \"width\": 3}, \"type\": \"line\", \"x0\": 0, \"x1\": 1, \"xref\": \"x domain\", \"y0\": 232, \"y1\": 232, \"yref\": \"y\"}], \"template\": {\"data\": {\"bar\": [{\"error_x\": {\"color\": \"#2a3f5f\"}, \"error_y\": {\"color\": \"#2a3f5f\"}, \"marker\": {\"line\": {\"color\": \"#E5ECF6\", \"width\": 0.5}}, \"type\": \"bar\"}], \"barpolar\": [{\"marker\": {\"line\": {\"color\": \"#E5ECF6\", \"width\": 0.5}}, \"type\": \"barpolar\"}], \"carpet\": [{\"aaxis\": {\"endlinecolor\": \"#2a3f5f\", \"gridcolor\": \"white\", \"linecolor\": \"white\", \"minorgridcolor\": \"white\", \"startlinecolor\": \"#2a3f5f\"}, \"baxis\": {\"endlinecolor\": \"#2a3f5f\", \"gridcolor\": \"white\", \"linecolor\": \"white\", \"minorgridcolor\": \"white\", \"startlinecolor\": \"#2a3f5f\"}, \"type\": \"carpet\"}], \"choropleth\": [{\"colorbar\": {\"outlinewidth\": 0, \"ticks\": \"\"}, \"type\": \"choropleth\"}], \"contour\": [{\"colorbar\": {\"outlinewidth\": 0, \"ticks\": \"\"}, \"colorscale\": [[0.0, \"#0d0887\"], [0.1111111111111111, \"#46039f\"], [0.2222222222222222, \"#7201a8\"], [0.3333333333333333, \"#9c179e\"], [0.4444444444444444, \"#bd3786\"], [0.5555555555555556, \"#d8576b\"], [0.6666666666666666, \"#ed7953\"], [0.7777777777777778, \"#fb9f3a\"], [0.8888888888888888, \"#fdca26\"], [1.0, \"#f0f921\"]], \"type\": \"contour\"}], \"contourcarpet\": [{\"colorbar\": {\"outlinewidth\": 0, \"ticks\": \"\"}, \"type\": \"contourcarpet\"}], \"heatmap\": [{\"colorbar\": {\"outlinewidth\": 0, \"ticks\": \"\"}, \"colorscale\": [[0.0, \"#0d0887\"], [0.1111111111111111, \"#46039f\"], [0.2222222222222222, \"#7201a8\"], [0.3333333333333333, \"#9c179e\"], [0.4444444444444444, \"#bd3786\"], [0.5555555555555556, \"#d8576b\"], [0.6666666666666666, \"#ed7953\"], [0.7777777777777778, \"#fb9f3a\"], [0.8888888888888888, \"#fdca26\"], [1.0, \"#f0f921\"]], \"type\": \"heatmap\"}], \"heatmapgl\": [{\"colorbar\": {\"outlinewidth\": 0, \"ticks\": \"\"}, \"colorscale\": [[0.0, \"#0d0887\"], [0.1111111111111111, \"#46039f\"], [0.2222222222222222, \"#7201a8\"], [0.3333333333333333, \"#9c179e\"], [0.4444444444444444, \"#bd3786\"], [0.5555555555555556, \"#d8576b\"], [0.6666666666666666, \"#ed7953\"], [0.7777777777777778, \"#fb9f3a\"], [0.8888888888888888, \"#fdca26\"], [1.0, \"#f0f921\"]], \"type\": \"heatmapgl\"}], \"histogram\": [{\"marker\": {\"colorbar\": {\"outlinewidth\": 0, \"ticks\": \"\"}}, \"type\": \"histogram\"}], \"histogram2d\": [{\"colorbar\": {\"outlinewidth\": 0, \"ticks\": \"\"}, \"colorscale\": [[0.0, \"#0d0887\"], [0.1111111111111111, \"#46039f\"], [0.2222222222222222, \"#7201a8\"], [0.3333333333333333, \"#9c179e\"], [0.4444444444444444, \"#bd3786\"], [0.5555555555555556, \"#d8576b\"], [0.6666666666666666, \"#ed7953\"], [0.7777777777777778, \"#fb9f3a\"], [0.8888888888888888, \"#fdca26\"], [1.0, \"#f0f921\"]], \"type\": \"histogram2d\"}], \"histogram2dcontour\": [{\"colorbar\": {\"outlinewidth\": 0, \"ticks\": \"\"}, \"colorscale\": [[0.0, \"#0d0887\"], [0.1111111111111111, \"#46039f\"], [0.2222222222222222, \"#7201a8\"], [0.3333333333333333, \"#9c179e\"], [0.4444444444444444, \"#bd3786\"], [0.5555555555555556, \"#d8576b\"], [0.6666666666666666, \"#ed7953\"], [0.7777777777777778, \"#fb9f3a\"], [0.8888888888888888, \"#fdca26\"], [1.0, \"#f0f921\"]], \"type\": \"histogram2dcontour\"}], \"mesh3d\": [{\"colorbar\": {\"outlinewidth\": 0, \"ticks\": \"\"}, \"type\": \"mesh3d\"}], \"parcoords\": [{\"line\": {\"colorbar\": {\"outlinewidth\": 0, \"ticks\": \"\"}}, \"type\": \"parcoords\"}], \"pie\": [{\"automargin\": true, \"type\": \"pie\"}], \"scatter\": [{\"marker\": {\"colorbar\": {\"outlinewidth\": 0, \"ticks\": \"\"}}, \"type\": \"scatter\"}], \"scatter3d\": [{\"line\": {\"colorbar\": {\"outlinewidth\": 0, \"ticks\": \"\"}}, \"marker\": {\"colorbar\": {\"outlinewidth\": 0, \"ticks\": \"\"}}, \"type\": \"scatter3d\"}], \"scattercarpet\": [{\"marker\": {\"colorbar\": {\"outlinewidth\": 0, \"ticks\": \"\"}}, \"type\": \"scattercarpet\"}], \"scattergeo\": [{\"marker\": {\"colorbar\": {\"outlinewidth\": 0, \"ticks\": \"\"}}, \"type\": \"scattergeo\"}], \"scattergl\": [{\"marker\": {\"colorbar\": {\"outlinewidth\": 0, \"ticks\": \"\"}}, \"type\": \"scattergl\"}], \"scattermapbox\": [{\"marker\": {\"colorbar\": {\"outlinewidth\": 0, \"ticks\": \"\"}}, \"type\": \"scattermapbox\"}], \"scatterpolar\": [{\"marker\": {\"colorbar\": {\"outlinewidth\": 0, \"ticks\": \"\"}}, \"type\": \"scatterpolar\"}], \"scatterpolargl\": [{\"marker\": {\"colorbar\": {\"outlinewidth\": 0, \"ticks\": \"\"}}, \"type\": \"scatterpolargl\"}], \"scatterternary\": [{\"marker\": {\"colorbar\": {\"outlinewidth\": 0, \"ticks\": \"\"}}, \"type\": \"scatterternary\"}], \"surface\": [{\"colorbar\": {\"outlinewidth\": 0, \"ticks\": \"\"}, \"colorscale\": [[0.0, \"#0d0887\"], [0.1111111111111111, \"#46039f\"], [0.2222222222222222, \"#7201a8\"], [0.3333333333333333, \"#9c179e\"], [0.4444444444444444, \"#bd3786\"], [0.5555555555555556, \"#d8576b\"], [0.6666666666666666, \"#ed7953\"], [0.7777777777777778, \"#fb9f3a\"], [0.8888888888888888, \"#fdca26\"], [1.0, \"#f0f921\"]], \"type\": \"surface\"}], \"table\": [{\"cells\": {\"fill\": {\"color\": \"#EBF0F8\"}, \"line\": {\"color\": \"white\"}}, \"header\": {\"fill\": {\"color\": \"#C8D4E3\"}, \"line\": {\"color\": \"white\"}}, \"type\": \"table\"}]}, \"layout\": {\"annotationdefaults\": {\"arrowcolor\": \"#2a3f5f\", \"arrowhead\": 0, \"arrowwidth\": 1}, \"autotypenumbers\": \"strict\", \"coloraxis\": {\"colorbar\": {\"outlinewidth\": 0, \"ticks\": \"\"}}, \"colorscale\": {\"diverging\": [[0, \"#8e0152\"], [0.1, \"#c51b7d\"], [0.2, \"#de77ae\"], [0.3, \"#f1b6da\"], [0.4, \"#fde0ef\"], [0.5, \"#f7f7f7\"], [0.6, \"#e6f5d0\"], [0.7, \"#b8e186\"], [0.8, \"#7fbc41\"], [0.9, \"#4d9221\"], [1, \"#276419\"]], \"sequential\": [[0.0, \"#0d0887\"], [0.1111111111111111, \"#46039f\"], [0.2222222222222222, \"#7201a8\"], [0.3333333333333333, \"#9c179e\"], [0.4444444444444444, \"#bd3786\"], [0.5555555555555556, \"#d8576b\"], [0.6666666666666666, \"#ed7953\"], [0.7777777777777778, \"#fb9f3a\"], [0.8888888888888888, \"#fdca26\"], [1.0, \"#f0f921\"]], \"sequentialminus\": [[0.0, \"#0d0887\"], [0.1111111111111111, \"#46039f\"], [0.2222222222222222, \"#7201a8\"], [0.3333333333333333, \"#9c179e\"], [0.4444444444444444, \"#bd3786\"], [0.5555555555555556, \"#d8576b\"], [0.6666666666666666, \"#ed7953\"], [0.7777777777777778, \"#fb9f3a\"], [0.8888888888888888, \"#fdca26\"], [1.0, \"#f0f921\"]]}, \"colorway\": [\"#636efa\", \"#EF553B\", \"#00cc96\", \"#ab63fa\", \"#FFA15A\", \"#19d3f3\", \"#FF6692\", \"#B6E880\", \"#FF97FF\", \"#FECB52\"], \"font\": {\"color\": \"#2a3f5f\"}, \"geo\": {\"bgcolor\": \"white\", \"lakecolor\": \"white\", \"landcolor\": \"#E5ECF6\", \"showlakes\": true, \"showland\": true, \"subunitcolor\": \"white\"}, \"hoverlabel\": {\"align\": \"left\"}, \"hovermode\": \"closest\", \"mapbox\": {\"style\": \"light\"}, \"paper_bgcolor\": \"white\", \"plot_bgcolor\": \"#E5ECF6\", \"polar\": {\"angularaxis\": {\"gridcolor\": \"white\", \"linecolor\": \"white\", \"ticks\": \"\"}, \"bgcolor\": \"#E5ECF6\", \"radialaxis\": {\"gridcolor\": \"white\", \"linecolor\": \"white\", \"ticks\": \"\"}}, \"scene\": {\"xaxis\": {\"backgroundcolor\": \"#E5ECF6\", \"gridcolor\": \"white\", \"gridwidth\": 2, \"linecolor\": \"white\", \"showbackground\": true, \"ticks\": \"\", \"zerolinecolor\": \"white\"}, \"yaxis\": {\"backgroundcolor\": \"#E5ECF6\", \"gridcolor\": \"white\", \"gridwidth\": 2, \"linecolor\": \"white\", \"showbackground\": true, \"ticks\": \"\", \"zerolinecolor\": \"white\"}, \"zaxis\": {\"backgroundcolor\": \"#E5ECF6\", \"gridcolor\": \"white\", \"gridwidth\": 2, \"linecolor\": \"white\", \"showbackground\": true, \"ticks\": \"\", \"zerolinecolor\": \"white\"}}, \"shapedefaults\": {\"line\": {\"color\": \"#2a3f5f\"}}, \"ternary\": {\"aaxis\": {\"gridcolor\": \"white\", \"linecolor\": \"white\", \"ticks\": \"\"}, \"baxis\": {\"gridcolor\": \"white\", \"linecolor\": \"white\", \"ticks\": \"\"}, \"bgcolor\": \"#E5ECF6\", \"caxis\": {\"gridcolor\": \"white\", \"linecolor\": \"white\", \"ticks\": \"\"}}, \"title\": {\"x\": 0.05}, \"xaxis\": {\"automargin\": true, \"gridcolor\": \"white\", \"linecolor\": \"white\", \"ticks\": \"\", \"title\": {\"standoff\": 15}, \"zerolinecolor\": \"white\", \"zerolinewidth\": 2}, \"yaxis\": {\"automargin\": true, \"gridcolor\": \"white\", \"linecolor\": \"white\", \"ticks\": \"\", \"title\": {\"standoff\": 15}, \"zerolinecolor\": \"white\", \"zerolinewidth\": 2}}}},                        {\"responsive\": true}                    ).then(function(){\n",
       "                            \n",
       "var gd = document.getElementById('ae32f424-68a6-44aa-a3a8-8298113eb6f8');\n",
       "var x = new MutationObserver(function (mutations, observer) {{\n",
       "        var display = window.getComputedStyle(gd).display;\n",
       "        if (!display || display === 'none') {{\n",
       "            console.log([gd, 'removed!']);\n",
       "            Plotly.purge(gd);\n",
       "            observer.disconnect();\n",
       "        }}\n",
       "}});\n",
       "\n",
       "// Listen for the removal of the full notebook cells\n",
       "var notebookContainer = gd.closest('#notebook-container');\n",
       "if (notebookContainer) {{\n",
       "    x.observe(notebookContainer, {childList: true});\n",
       "}}\n",
       "\n",
       "// Listen for the clearing of the current output cell\n",
       "var outputEl = gd.closest('.output');\n",
       "if (outputEl) {{\n",
       "    x.observe(outputEl, {childList: true});\n",
       "}}\n",
       "\n",
       "                        })                };                });            </script>        </div>"
      ]
     },
     "metadata": {},
     "output_type": "display_data"
    }
   ],
   "source": [
    "print(np.median(b))\n",
    "fig = go.Figure([go.Scatter(x=a, y=b)])\n",
    "fig.add_hline(y= 232, line_width=3, line_dash=\"dash\", line_color=\"green\")\n",
    "\n",
    "fig.show()"
   ]
  },
  {
   "cell_type": "code",
   "execution_count": 15,
   "metadata": {},
   "outputs": [],
   "source": [
    "from datetime import datetime\n"
   ]
  },
  {
   "cell_type": "code",
   "execution_count": 47,
   "metadata": {
    "scrolled": true
   },
   "outputs": [
    {
     "data": {
      "image/png": "[encoded data removed]",
      "text/plain": [
       "<Figure size 1800x720 with 1 Axes>"
      ]
     },
     "metadata": {
      "needs_background": "light"
     },
     "output_type": "display_data"
    }
   ],
   "source": [
    "months = {}\n",
    "for i in range(0,table.shape[0]):\n",
    "    new_Date = datetime.strptime(str(table[\"c\"][i]), \"%b %d, %Y\").strftime(\"%y/%b\")\n",
    "    if new_Date not in months : \n",
    "        months[new_Date] = 1\n",
    "    else:\n",
    "        months[new_Date] += 1\n",
    "a = list(months.keys()) \n",
    "b = list(months.values()) \n",
    "   \n",
    "\n",
    "fig = plt.figure(figsize = (25, 10\n",
    "                           )) \n",
    "  \n",
    "plt.bar(a, b, color ='green',  \n",
    "        width = 1) \n",
    "  \n",
    "plt.xlabel(\"no. of scams reported\") \n",
    "plt.ylabel(\"date\")  \n",
    "plt.show() "
   ]
  },
  {
   "cell_type": "code",
   "execution_count": 51,
   "metadata": {},
   "outputs": [],
   "source": [
    "def doCheck(i):\n",
    "    if table[\"BusinessName\"][i].lower().find(\"amazon\") >= 0 and table[\"Description\"][i].lower().find(\"amazon\") >= 0:\n",
    "        return True\n",
    "    return False"
   ]
  },
  {
   "cell_type": "code",
   "execution_count": 53,
   "metadata": {},
   "outputs": [
    {
     "data": {
      "image/png": "[encoded data removed]",
      "text/plain": [
       "<Figure size 1800x720 with 1 Axes>"
      ]
     },
     "metadata": {
      "needs_background": "light"
     },
     "output_type": "display_data"
    }
   ],
   "source": [
    "months = {}\n",
    "for i in range(table.shape[0]):\n",
    "    new_Date = datetime.strptime(str(table[\"c\"][i]), \"%b %d, %Y\")\n",
    "#     new_Date =str(table[\"c\"][i])\n",
    "    if not doCheck(i):\n",
    "        continue\n",
    "    if new_Date not in months : \n",
    "        months[new_Date] = 1\n",
    "    else:\n",
    "        months[new_Date] += 1\n",
    "a = list(months.keys()) \n",
    "b = list(months.values()) \n",
    "   \n",
    "\n",
    "fig = plt.figure(figsize = (25, 10\n",
    "                           )) \n",
    "  \n",
    "plt.bar(a, b, color ='green',  \n",
    "        width = 1) \n",
    "  \n",
    "plt.xlabel(\"no. of scams reported\") \n",
    "plt.ylabel(\"date\")  \n",
    "plt.show() "
   ]
  },
  {
   "cell_type": "code",
   "execution_count": 9,
   "metadata": {},
   "outputs": [
    {
     "ename": "NameError",
     "evalue": "name 'a' is not defined",
     "output_type": "error",
     "traceback": [
      "\u001b[0;31m---------------------------------------------------------------------------\u001b[0m",
      "\u001b[0;31mNameError\u001b[0m                                 Traceback (most recent call last)",
      "\u001b[0;32m<ipython-input-9-baf2a4361ec0>\u001b[0m in \u001b[0;36m<module>\u001b[0;34m\u001b[0m\n\u001b[1;32m      1\u001b[0m \u001b[0;32mimport\u001b[0m \u001b[0mpylab\u001b[0m\u001b[0;34m\u001b[0m\u001b[0m\n\u001b[0;32m----> 2\u001b[0;31m \u001b[0mpylab\u001b[0m\u001b[0;34m.\u001b[0m \u001b[0mplot\u001b[0m\u001b[0;34m(\u001b[0m\u001b[0ma\u001b[0m\u001b[0;34m,\u001b[0m\u001b[0mb\u001b[0m\u001b[0;34m,\u001b[0m\u001b[0;34m'o'\u001b[0m\u001b[0;34m)\u001b[0m\u001b[0;34m\u001b[0m\u001b[0m\n\u001b[0m\u001b[1;32m      3\u001b[0m \u001b[0mz\u001b[0m \u001b[0;34m=\u001b[0m \u001b[0mnp\u001b[0m\u001b[0;34m.\u001b[0m \u001b[0mpolyfit\u001b[0m\u001b[0;34m(\u001b[0m\u001b[0ma\u001b[0m\u001b[0;34m,\u001b[0m \u001b[0mb\u001b[0m\u001b[0;34m,\u001b[0m \u001b[0;36m1\u001b[0m\u001b[0;34m)\u001b[0m\u001b[0;34m\u001b[0m\u001b[0m\n\u001b[1;32m      4\u001b[0m \u001b[0mp\u001b[0m \u001b[0;34m=\u001b[0m \u001b[0mnp\u001b[0m\u001b[0;34m.\u001b[0m \u001b[0mpoly1d\u001b[0m\u001b[0;34m(\u001b[0m\u001b[0mz\u001b[0m\u001b[0;34m)\u001b[0m\u001b[0;34m\u001b[0m\u001b[0m\n\u001b[1;32m      5\u001b[0m \u001b[0mpylab\u001b[0m\u001b[0;34m.\u001b[0m \u001b[0mplot\u001b[0m\u001b[0;34m(\u001b[0m\u001b[0mx\u001b[0m\u001b[0;34m,\u001b[0m\u001b[0mp\u001b[0m\u001b[0;34m(\u001b[0m\u001b[0mx\u001b[0m\u001b[0;34m)\u001b[0m\u001b[0;34m,\u001b[0m\u001b[0;34m\"r--\"\u001b[0m\u001b[0;34m)\u001b[0m\u001b[0;34m\u001b[0m\u001b[0m\n",
      "\u001b[0;31mNameError\u001b[0m: name 'a' is not defined"
     ]
    }
   ],
   "source": [
    "import pylab\n",
    "pylab. plot(a,b,'o')\n",
    "z = np. polyfit(a, b, 1)\n",
    "p = np. poly1d(z)\n",
    "pylab. plot(x,p(x),\"r--\")\n",
    "print (\"y=%.6fx+(%.6f)\"%(z[0],z[1]))"
   ]
  },
  {
   "cell_type": "markdown",
   "metadata": {},
   "source": [
    "## top 20 days with most no.of scams reported\n",
    "- Aug 16, 2018 -- amazon webstore \n",
    "- Jun 06, 2018 -- meridex systems\n",
    "- Oct 03, 2018 -- amazonprofits"
   ]
  },
  {
   "cell_type": "code",
   "execution_count": 10,
   "metadata": {
    "scrolled": false
   },
   "outputs": [
    {
     "ename": "KeyError",
     "evalue": "'time'",
     "output_type": "error",
     "traceback": [
      "\u001b[0;31m---------------------------------------------------------------------------\u001b[0m",
      "\u001b[0;31mKeyError\u001b[0m                                  Traceback (most recent call last)",
      "\u001b[0;32m<ipython-input-10-9cb6cefaf3ca>\u001b[0m in \u001b[0;36m<module>\u001b[0;34m\u001b[0m\n\u001b[1;32m      1\u001b[0m \u001b[0;32mfrom\u001b[0m \u001b[0mheapq\u001b[0m \u001b[0;32mimport\u001b[0m \u001b[0mnlargest\u001b[0m\u001b[0;34m\u001b[0m\u001b[0m\n\u001b[0;32m----> 2\u001b[0;31m \u001b[0mres\u001b[0m \u001b[0;34m=\u001b[0m \u001b[0mnlargest\u001b[0m\u001b[0;34m(\u001b[0m\u001b[0;36m20\u001b[0m\u001b[0;34m,\u001b[0m \u001b[0m_dict\u001b[0m\u001b[0;34m[\u001b[0m\u001b[0;34m\"time\"\u001b[0m\u001b[0;34m]\u001b[0m\u001b[0;34m,\u001b[0m \u001b[0mkey\u001b[0m \u001b[0;34m=\u001b[0m \u001b[0m_dict\u001b[0m\u001b[0;34m[\u001b[0m\u001b[0;34m\"time\"\u001b[0m\u001b[0;34m]\u001b[0m\u001b[0;34m.\u001b[0m\u001b[0mget\u001b[0m\u001b[0;34m)\u001b[0m\u001b[0;34m\u001b[0m\u001b[0m\n\u001b[0m\u001b[1;32m      3\u001b[0m \u001b[0;32mfor\u001b[0m \u001b[0mi\u001b[0m \u001b[0;32min\u001b[0m \u001b[0mres\u001b[0m\u001b[0;34m:\u001b[0m\u001b[0;34m\u001b[0m\u001b[0m\n\u001b[1;32m      4\u001b[0m     \u001b[0mprint\u001b[0m\u001b[0;34m(\u001b[0m\u001b[0;34mf'{i}      {_dict[\"time\"][i]}'\u001b[0m\u001b[0;34m)\u001b[0m\u001b[0;34m\u001b[0m\u001b[0m\n",
      "\u001b[0;31mKeyError\u001b[0m: 'time'"
     ]
    }
   ],
   "source": [
    "from heapq import nlargest \n",
    "res = nlargest(20, _dict[\"time\"], key = _dict[\"time\"].get) \n",
    "for i in res:\n",
    "    print(f'{i}      {_dict[\"time\"][i]}')"
   ]
  },
  {
   "cell_type": "code",
   "execution_count": null,
   "metadata": {},
   "outputs": [],
   "source": []
  },
  {
   "cell_type": "markdown",
   "metadata": {},
   "source": [
    "## the rise in number of scam reports in the later part of 2018 can be associated with a lot of imposters using the name <b>amazon /webstore</b>"
   ]
  },
  {
   "cell_type": "code",
   "execution_count": 11,
   "metadata": {
    "scrolled": true
   },
   "outputs": [
    {
     "data": {
      "image/png": "[encoded data removed]",
      "text/plain": [
       "<Figure size 1440x504 with 1 Axes>"
      ]
     },
     "metadata": {
      "needs_background": "light"
     },
     "output_type": "display_data"
    }
   ],
   "source": [
    "#descriptions with special strings\n",
    "strings = [\"amazon\",\"webstore\",\"jobs\" ]\n",
    "_dict[\"timeVstrings\"] = {}\n",
    "import datetime\n",
    "import dateutil.parser\n",
    "\n",
    "yourdate = dateutil.parser.parse(str(table[\"c\"][0]))\n",
    "_dict[\"timeVstrings\"][yourdate] = 0\n",
    "for i in range(1,table.shape[0]):\n",
    "    new_Date = dateutil.parser.parse(str(table[\"c\"][i]))\n",
    "    if new_Date != yourdate :\n",
    "        _dict[\"timeVstrings\"][new_Date] = 0\n",
    "    if any(phrase in str(table[\"Description\"][i]).lower() for phrase in strings):\n",
    "        _dict[\"timeVstrings\"][new_Date] += 1\n",
    "    yourdate = new_Date\n",
    "\n",
    "courses = list(_dict[\"timeVstrings\"].keys()) \n",
    "values = list(_dict[\"timeVstrings\"].values()) \n",
    "   \n",
    "\n",
    "fig = plt.figure(figsize = (20, 7)) \n",
    "  \n",
    "plt.bar(courses, values, color ='red',  \n",
    "        width = 1) \n",
    "  \n",
    "plt.ylabel(\"no. of scams reported which include the strings\"+str(strings)) \n",
    "plt.xlabel(\"date\")  \n",
    "plt.show() \n",
    "  "
   ]
  },
  {
   "cell_type": "code",
   "execution_count": 32,
   "metadata": {},
   "outputs": [],
   "source": [
    "import nltk"
   ]
  },
  {
   "cell_type": "code",
   "execution_count": 12,
   "metadata": {},
   "outputs": [],
   "source": [
    "import nltk, re\n",
    "from nltk.stem.wordnet import WordNetLemmatizer\n",
    "from nltk import word_tokenize\n",
    "from nltk.corpus import stopwords"
   ]
  },
  {
   "cell_type": "code",
   "execution_count": 34,
   "metadata": {},
   "outputs": [],
   "source": [
    "def getFreqForYear(year):\n",
    "    _dict[\"raw\"+str(year)] = \"\"\n",
    "    for i in range(table.shape[0]):\n",
    "        yourdate = dateutil.parser.parse(str(table[\"c\"][i]))\n",
    "        if yourdate.year < year :\n",
    "            break\n",
    "        elif yourdate.year == year:\n",
    "            _dict[\"raw\"+str(year)]+=(str(table[\"Description\"][i]))\n",
    "\n",
    "    # Regex for only english terms (with dots)\n",
    "    ENGLISH_RE = re.compile(r'[a-z]+')\n",
    "\n",
    "    tokens = nltk.word_tokenize(_dict[\"raw\"+str(year)])\n",
    "    lmtzr = nltk.WordNetLemmatizer()\n",
    "    # Save the list between tokens\n",
    "    lemmatized = []\n",
    "    for word in tokens:\n",
    "        # Lowerize for correct use in stopwords etc\n",
    "        w = word.lower()\n",
    "        # Check english terms\n",
    "        if not ENGLISH_RE.match(w):\n",
    "            continue\n",
    "        # Check stopwords\n",
    "        if w in stopwords.words('english'):\n",
    "            continue\n",
    "        lemmatized.append(lmtzr.lemmatize(w))\n",
    "\n",
    "    fdist1 = nltk.FreqDist(lemmatized)\n",
    "    print(fdist1.most_common(10))"
   ]
  },
  {
   "cell_type": "code",
   "execution_count": 35,
   "metadata": {},
   "outputs": [
    {
     "name": "stdout",
     "output_type": "stream",
     "text": [
      "[('job', 983), ('company', 979), ('would', 874), ('email', 844), ('check', 814), ('interview', 593), ('sent', 483), ('work', 442), ('received', 438), ('asked', 437)]\n"
     ]
    }
   ],
   "source": [
    "getFreqForYear(2021)"
   ]
  },
  {
   "cell_type": "code",
   "execution_count": 63,
   "metadata": {},
   "outputs": [
    {
     "name": "stdout",
     "output_type": "stream",
     "text": [
      "[('job', 3701), ('company', 3645), ('check', 3520), ('email', 3428), ('would', 2839), ('interview', 1808), ('work', 1775), ('sent', 1731), ('position', 1700), ('received', 1692)]\n"
     ]
    }
   ],
   "source": [
    "getFreqForYear(2020)"
   ]
  },
  {
   "cell_type": "code",
   "execution_count": 47,
   "metadata": {},
   "outputs": [
    {
     "name": "stdout",
     "output_type": "stream",
     "text": [
      "[('check', 4102), ('company', 3803), ('job', 3623), ('email', 3535), ('would', 3097), ('position', 1873), ('work', 1863), ('received', 1860), ('interview', 1755), ('sent', 1711)]\n"
     ]
    }
   ],
   "source": [
    "getFreqForYear(2019)"
   ]
  },
  {
   "cell_type": "code",
   "execution_count": 42,
   "metadata": {},
   "outputs": [
    {
     "name": "stdout",
     "output_type": "stream",
     "text": [
      "[('company', 4944), ('job', 4799), ('check', 4692), ('email', 4372), ('would', 3623), ('work', 2644), ('position', 2409), ('received', 2401), ('name', 2106), ('get', 2019)]\n"
     ]
    }
   ],
   "source": [
    "getFreqForYear(2018)"
   ]
  },
  {
   "cell_type": "code",
   "execution_count": 43,
   "metadata": {},
   "outputs": [
    {
     "name": "stdout",
     "output_type": "stream",
     "text": [
      "[('job', 2652), ('company', 2648), ('check', 2432), ('email', 2292), ('would', 2078), ('work', 1341), ('position', 1311), ('name', 1259), ('received', 1214), ('interview', 1196)]\n"
     ]
    }
   ],
   "source": [
    "getFreqForYear(2017)"
   ]
  },
  {
   "cell_type": "code",
   "execution_count": null,
   "metadata": {},
   "outputs": [],
   "source": []
  }
 ],
 "metadata": {
  "kernelspec": {
   "display_name": "Python 3",
   "language": "python",
   "name": "python3"
  },
  "language_info": {
   "codemirror_mode": {
    "name": "ipython",
    "version": 3
   },
   "file_extension": ".py",
   "mimetype": "text/x-python",
   "name": "python",
   "nbconvert_exporter": "python",
   "pygments_lexer": "ipython3",
   "version": "3.6.5"
  }
 },
 "nbformat": 4,
 "nbformat_minor": 4
}
