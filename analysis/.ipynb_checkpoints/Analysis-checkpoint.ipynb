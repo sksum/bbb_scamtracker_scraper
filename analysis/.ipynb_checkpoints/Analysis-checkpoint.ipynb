{
 "cells": [
  {
   "cell_type": "code",
   "execution_count": 2,
   "metadata": {},
   "outputs": [
    {
     "data": {
      "text/plain": [
       "'1.20.1'"
      ]
     },
     "execution_count": 2,
     "metadata": {},
     "output_type": "execute_result"
    }
   ],
   "source": [
    "import numpy as np\n",
    "import matplotlib.pyplot as plt\n",
    "np.version.version"
   ]
  },
  {
   "cell_type": "code",
   "execution_count": 1,
   "metadata": {},
   "outputs": [
    {
     "name": "stdout",
     "output_type": "stream",
     "text": [
      "    a  co             c    d      p       s  si      ssi  stt  st  ...  \\\n",
      "0 NaN NaN  Feb 03, 2021  0.0  95605  471742   0  PTAREPA    8 NaN  ...   \n",
      "\n",
      "  SearchError  ScamTitle                  BusinessName             C    D  \\\n",
      "0         NaN        NaN  Claiming to be with nference  Feb 03, 2021  0.0   \n",
      "\n",
      "                                         Description      P     PKID  S  \\\n",
      "0  I applied for a work at home customer service ...  95605  PTAREPA  8   \n",
      "\n",
      "   ScamID  \n",
      "0  471742  \n",
      "\n",
      "[1 rows x 24 columns]\n"
     ]
    }
   ],
   "source": [
    "# Import pandas \n",
    "import pandas as pd \n",
    "  \n",
    "# Read csv file  \n",
    "table = pd.read_csv(\"../csv/usa.csv\") \n",
    "# Print it out if you want to...\n",
    "print(table.head(1))"
   ]
  },
  {
   "cell_type": "markdown",
   "metadata": {},
   "source": [
    "# Textual Analysis"
   ]
  },
  {
   "cell_type": "code",
   "execution_count": 3,
   "metadata": {
    "scrolled": true
   },
   "outputs": [],
   "source": [
    "# collect sentiment\n",
    "from textblob import TextBlob\n",
    "dict = {\"Sentiment\":[]}\n",
    "for i in range(table.shape[0]):\n",
    "    dict[\"Sentiment\"].append(TextBlob(str(table[\"Description\"][i])).sentiment.polarity)\n",
    "    "
   ]
  },
  {
   "cell_type": "code",
   "execution_count": 4,
   "metadata": {},
   "outputs": [
    {
     "data": {
      "text/plain": [
       "0.06309682604478951"
      ]
     },
     "execution_count": 4,
     "metadata": {},
     "output_type": "execute_result"
    }
   ],
   "source": [
    "from statistics import mean \n",
    "mean(dict[\"Sentiment\"])\n",
    "#chatter plot"
   ]
  },
  {
   "cell_type": "code",
   "execution_count": 73,
   "metadata": {},
   "outputs": [
    {
     "data": {
      "text/plain": [
       "12500250.61999999"
      ]
     },
     "execution_count": 73,
     "metadata": {},
     "output_type": "execute_result"
    }
   ],
   "source": [
    "\n",
    "money = []\n",
    "for i in range(table.shape[0]):\n",
    "    money.append(table['d'][i]) \n",
    "sum(money)"
   ]
  },
  {
   "cell_type": "code",
   "execution_count": 6,
   "metadata": {},
   "outputs": [
    {
     "name": "stdout",
     "output_type": "stream",
     "text": [
      "Defaulting to user installation because normal site-packages is not writeable\n",
      "Collecting gensim\n",
      "  Downloading gensim-3.8.3-cp38-cp38-manylinux1_x86_64.whl (24.2 MB)\n",
      "\u001b[K     |████████████████████████████████| 24.2 MB 3.6 MB/s eta 0:00:01\n",
      "\u001b[?25hCollecting smart-open>=1.8.1\n",
      "  Downloading smart_open-4.1.2-py3-none-any.whl (111 kB)\n",
      "\u001b[K     |████████████████████████████████| 111 kB 4.1 MB/s eta 0:00:01\n",
      "\u001b[?25hRequirement already satisfied: six>=1.5.0 in /home/saksham/.local/lib/python3.8/site-packages (from gensim) (1.15.0)\n",
      "Requirement already satisfied: numpy>=1.11.3 in /home/saksham/.local/lib/python3.8/site-packages (from gensim) (1.20.1)\n",
      "Requirement already satisfied: scipy>=0.18.1 in /home/saksham/.local/lib/python3.8/site-packages (from gensim) (1.4.1)\n",
      "Installing collected packages: smart-open, gensim\n",
      "Successfully installed gensim-3.8.3 smart-open-4.1.2\n"
     ]
    }
   ],
   "source": [
    "!pip install gensim"
   ]
  },
  {
   "cell_type": "code",
   "execution_count": 5,
   "metadata": {},
   "outputs": [],
   "source": [
    "from rake_nltk import Rake\n",
    "dict[\"Keywords\"] = []\n",
    "\n",
    "for i in range(table.shape[0]- 300):\n",
    "    r = Rake()\n",
    "    r.extract_keywords_from_text(str(table[\"Description\"][i]))\n",
    "    \n",
    "    keywords = r.get_ranked_phrases()\n",
    "    if not len(keywords):\n",
    "        keyword = \"\"\n",
    "    else:\n",
    "        keyword = keywords[0]\n",
    "    dict[\"Keywords\"].append (keyword)\n"
   ]
  },
  {
   "cell_type": "code",
   "execution_count": 49,
   "metadata": {},
   "outputs": [],
   "source": [
    "fd = nltk.FreqDist(dict[\"Keywords\"])"
   ]
  },
  {
   "cell_type": "code",
   "execution_count": 50,
   "metadata": {},
   "outputs": [
    {
     "data": {
      "text/plain": [
       "[('currently hiring 23 people', 51),\n",
       " ('social security number', 44),\n",
       " ('web store jobs dot org', 27),\n",
       " ('secret shopper', 26),\n",
       " ('interview via google hangouts', 19),\n",
       " ('hiring 23 people', 19),\n",
       " ('17 -$ 32 hr', 17),\n",
       " ('secret shopper job', 14),\n",
       " ('never got paid', 14),\n",
       " ('spare time hourly pay ranges', 14)]"
      ]
     },
     "execution_count": 50,
     "metadata": {},
     "output_type": "execute_result"
    }
   ],
   "source": [
    "fd.most_common(10)"
   ]
  },
  {
   "cell_type": "code",
   "execution_count": 17,
   "metadata": {},
   "outputs": [
    {
     "data": {
      "image/png": "[encoded data removed]",
      "text/plain": [
       "<Figure size 1800x360 with 1 Axes>"
      ]
     },
     "metadata": {
      "needs_background": "light"
     },
     "output_type": "display_data"
    }
   ],
   "source": [
    "#time\n",
    "dict[\"time\"] = {}\n",
    "import datetime\n",
    "import dateutil.parser\n",
    "yourdate = dateutil.parser.parse(str(table[\"c\"][0]))\n",
    "dict[\"time\"][yourdate] = 1\n",
    "for i in range(1,table.shape[0]):\n",
    "    new_Date = dateutil.parser.parse(str(table[\"c\"][i]))\n",
    "    if new_Date != yourdate : \n",
    "        dict[\"time\"][new_Date] = 1\n",
    "    else:\n",
    "        dict[\"time\"][new_Date] += 1\n",
    "    yourdate = new_Date\n",
    "a = list(dict[\"time\"].keys()) \n",
    "b = list(dict[\"time\"].values()) \n",
    "   \n",
    "\n",
    "fig = plt.figure(figsize = (25, 5)) \n",
    "  \n",
    "plt.bar(a, b, color ='green',  \n",
    "        width = 1) \n",
    "  \n",
    "plt.xlabel(\"no. of scams reported\") \n",
    "plt.ylabel(\"date\")  \n",
    "plt.show() \n",
    "  "
   ]
  },
  {
   "cell_type": "markdown",
   "metadata": {},
   "source": [
    "## the rise in number of scam reports in the later part of 2018 can be associated with a lot of imposters using the name <b>amazon /webstore</b>"
   ]
  },
  {
   "cell_type": "code",
   "execution_count": 7,
   "metadata": {
    "scrolled": false
   },
   "outputs": [
    {
     "data": {
      "image/png": "[encoded data removed]",
      "text/plain": [
       "<Figure size 1440x504 with 1 Axes>"
      ]
     },
     "metadata": {
      "needs_background": "light"
     },
     "output_type": "display_data"
    }
   ],
   "source": [
    "#descriptions with special strings\n",
    "strings = [\"amazon\",\"webstore\"]\n",
    "dict[\"timeVstrings\"] = {}\n",
    "import datetime\n",
    "import dateutil.parser\n",
    "\n",
    "yourdate = dateutil.parser.parse(str(table[\"c\"][0]))\n",
    "dict[\"timeVstrings\"][yourdate] = 0\n",
    "for i in range(1,table.shape[0]):\n",
    "    new_Date = dateutil.parser.parse(str(table[\"c\"][i]))\n",
    "    if new_Date != yourdate :\n",
    "        dict[\"timeVstrings\"][new_Date] = 0\n",
    "    if any(phrase in str(table[\"Description\"][i]).lower() for phrase in strings):\n",
    "        dict[\"timeVstrings\"][new_Date] += 1\n",
    "    yourdate = new_Date\n",
    "import matplotlib.pyplot as plt  \n",
    "\n",
    "courses = list(dict[\"timeVstrings\"].keys()) \n",
    "values = list(dict[\"timeVstrings\"].values()) \n",
    "   \n",
    "\n",
    "fig = plt.figure(figsize = (20, 7)) \n",
    "  \n",
    "plt.bar(courses, values, color ='red',  \n",
    "        width = 1) \n",
    "  \n",
    "plt.ylabel(\"no. of scams reported which include the strings\"+str(strings)) \n",
    "plt.xlabel(\"date\")  \n",
    "plt.show() \n",
    "  "
   ]
  },
  {
   "cell_type": "code",
   "execution_count": 26,
   "metadata": {},
   "outputs": [
    {
     "name": "stdout",
     "output_type": "stream",
     "text": [
      "[nltk_data] Downloading package wordnet to /home/saksham/nltk_data...\n",
      "[nltk_data]   Unzipping corpora/wordnet.zip.\n"
     ]
    },
    {
     "data": {
      "text/plain": [
       "True"
      ]
     },
     "execution_count": 26,
     "metadata": {},
     "output_type": "execute_result"
    }
   ],
   "source": [
    "import nltk"
   ]
  },
  {
   "cell_type": "code",
   "execution_count": 46,
   "metadata": {},
   "outputs": [],
   "source": [
    "import nltk, re\n",
    "from nltk.stem.wordnet import WordNetLemmatizer\n",
    "from nltk import word_tokenize\n",
    "from nltk.corpus import stopwords"
   ]
  },
  {
   "cell_type": "code",
   "execution_count": 40,
   "metadata": {},
   "outputs": [],
   "source": [
    "def getFreqForYear(year):\n",
    "    dict[\"raw\"+str(year)] = \"\"\n",
    "    for i in range(table.shape[0]):\n",
    "        yourdate = dateutil.parser.parse(str(table[\"c\"][i]))\n",
    "        if yourdate.year < year :\n",
    "            break\n",
    "        elif yourdate.year == year:\n",
    "            dict[\"raw\"+str(year)]+=(str(table[\"Description\"][i]))\n",
    "\n",
    "    # Regex for only english terms (with dots)\n",
    "    ENGLISH_RE = re.compile(r'[a-z]+')\n",
    "\n",
    "    tokens = nltk.word_tokenize(dict[\"raw\"+str(year)])\n",
    "    lmtzr = nltk.WordNetLemmatizer()\n",
    "    # Save the list between tokens\n",
    "    lemmatized = []\n",
    "    for word in tokens:\n",
    "        # Lowerize for correct use in stopwords etc\n",
    "        w = word.lower()\n",
    "        # Check english terms\n",
    "        if not ENGLISH_RE.match(w):\n",
    "            continue\n",
    "        # Check stopwords\n",
    "        if w in stopwords.words('english'):\n",
    "            continue\n",
    "        lemmatized.append(lmtzr.lemmatize(w))\n",
    "\n",
    "    fdist1 = nltk.FreqDist(lemmatized)\n",
    "    print(fdist1.most_common(10))"
   ]
  },
  {
   "cell_type": "code",
   "execution_count": 41,
   "metadata": {},
   "outputs": [
    {
     "name": "stdout",
     "output_type": "stream",
     "text": [
      "[('job', 339), ('company', 337), ('check', 323), ('would', 313), ('email', 274), ('interview', 199), ('work', 187), ('sent', 187), ('received', 166), ('position', 151)]\n"
     ]
    }
   ],
   "source": [
    "getFreqForYear(2021)"
   ]
  },
  {
   "cell_type": "code",
   "execution_count": 63,
   "metadata": {},
   "outputs": [
    {
     "name": "stdout",
     "output_type": "stream",
     "text": [
      "[('job', 3701), ('company', 3645), ('check', 3520), ('email', 3428), ('would', 2839), ('interview', 1808), ('work', 1775), ('sent', 1731), ('position', 1700), ('received', 1692)]\n"
     ]
    }
   ],
   "source": [
    "getFreqForYear(2020)"
   ]
  },
  {
   "cell_type": "code",
   "execution_count": 47,
   "metadata": {},
   "outputs": [
    {
     "name": "stdout",
     "output_type": "stream",
     "text": [
      "[('check', 4102), ('company', 3803), ('job', 3623), ('email', 3535), ('would', 3097), ('position', 1873), ('work', 1863), ('received', 1860), ('interview', 1755), ('sent', 1711)]\n"
     ]
    }
   ],
   "source": [
    "getFreqForYear(2019)"
   ]
  },
  {
   "cell_type": "code",
   "execution_count": 42,
   "metadata": {},
   "outputs": [
    {
     "name": "stdout",
     "output_type": "stream",
     "text": [
      "[('company', 4944), ('job', 4799), ('check', 4692), ('email', 4372), ('would', 3623), ('work', 2644), ('position', 2409), ('received', 2401), ('name', 2106), ('get', 2019)]\n"
     ]
    }
   ],
   "source": [
    "getFreqForYear(2018)"
   ]
  },
  {
   "cell_type": "code",
   "execution_count": 43,
   "metadata": {},
   "outputs": [
    {
     "name": "stdout",
     "output_type": "stream",
     "text": [
      "[('job', 2652), ('company', 2648), ('check', 2432), ('email', 2292), ('would', 2078), ('work', 1341), ('position', 1311), ('name', 1259), ('received', 1214), ('interview', 1196)]\n"
     ]
    }
   ],
   "source": [
    "getFreqForYear(2017)"
   ]
  },
  {
   "cell_type": "code",
   "execution_count": null,
   "metadata": {},
   "outputs": [],
   "source": []
  }
 ],
 "metadata": {
  "kernelspec": {
   "display_name": "Python 3",
   "language": "python",
   "name": "python3"
  },
  "language_info": {
   "codemirror_mode": {
    "name": "ipython",
    "version": 3
   },
   "file_extension": ".py",
   "mimetype": "text/x-python",
   "name": "python",
   "nbconvert_exporter": "python",
   "pygments_lexer": "ipython3",
   "version": "3.8.5"
  }
 },
 "nbformat": 4,
 "nbformat_minor": 4
}
