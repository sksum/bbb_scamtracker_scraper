{
 "cells": [
  {
   "cell_type": "code",
   "execution_count": 1,
   "metadata": {},
   "outputs": [],
   "source": [
    "import pandas as pd\n",
    "import math\n",
    "from ast import literal_eval"
   ]
  },
  {
   "cell_type": "code",
   "execution_count": 2,
   "metadata": {},
   "outputs": [],
   "source": [
    "orig = pd.read_csv(\"../raw/usa_with_details.csv\")\n",
    "orig_n = orig.shape[0]"
   ]
  },
  {
   "cell_type": "code",
   "execution_count": 3,
   "metadata": {},
   "outputs": [
    {
     "data": {
      "text/plain": [
       "\"Got several escalating emails from a company offering me a job, WITH NO INTERVIEW, in a field where I don't have experience.  Pay was good.  Links to website and a state business lookup were included and the company is, in fact, incorporated.  The payroll form was sent in Word format!!!  The other documents had strange and/or incorrect grammar.  The company address seems fake -- it's a shopping center but no suite is given even though that's how it should be.\""
      ]
     },
     "execution_count": 3,
     "metadata": {},
     "output_type": "execute_result"
    }
   ],
   "source": [
    "orig[\"Description\"][12]"
   ]
  },
  {
   "cell_type": "code",
   "execution_count": 4,
   "metadata": {},
   "outputs": [
    {
     "name": "stderr",
     "output_type": "stream",
     "text": [
      "/home/sakshamm/environments/my_env/lib/python3.6/site-packages/ipykernel_launcher.py:4: SettingWithCopyWarning: \n",
      "A value is trying to be set on a copy of a slice from a DataFrame\n",
      "\n",
      "See the caveats in the documentation: https://pandas.pydata.org/pandas-docs/stable/user_guide/indexing.html#returning-a-view-versus-a-copy\n",
      "  after removing the cwd from sys.path.\n"
     ]
    },
    {
     "data": {
      "text/plain": [
       "[5222, 16686]"
      ]
     },
     "execution_count": 4,
     "metadata": {},
     "output_type": "execute_result"
    }
   ],
   "source": [
    "cnt = []\n",
    "for i in range(orig_n):\n",
    "    if not isinstance(orig[\"Description\"][i],str):\n",
    "        orig[\"Description\"][i] = \"\"\n",
    "        cnt.append(i)\n",
    "cnt"
   ]
  },
  {
   "cell_type": "code",
   "execution_count": 5,
   "metadata": {},
   "outputs": [],
   "source": [
    "spec_chars = [\"&\",\"*\",\"[\",\"]\",\"^\",\"_\",\"{\",\"|\",\"}\",\";\",\"\\n\",\"\\r\",\"<.*?>\"]\n",
    "for char in spec_chars:\n",
    "    orig[\"Description\"] = orig[\"Description\"].str.replace(char, ' ')"
   ]
  },
  {
   "cell_type": "code",
   "execution_count": 6,
   "metadata": {},
   "outputs": [],
   "source": [
    "import spacy\n",
    "import contextualSpellCheck\n",
    "\n",
    "nlp = spacy.load('en_core_web_sm')\n",
    "contextualSpellCheck.add_to_pipe(nlp)"
   ]
  },
  {
   "cell_type": "code",
   "execution_count": 7,
   "metadata": {},
   "outputs": [],
   "source": [
    "def spellCheck(text):\n",
    "    doc = nlp(text)\n",
    "    if not doc._.performed_spellCheck : \n",
    "        return text\n",
    "    return doc._.outcome_spellCheck"
   ]
  },
  {
   "cell_type": "code",
   "execution_count": 8,
   "metadata": {},
   "outputs": [],
   "source": [
    "batch_size = 100\n",
    "def writeToFile(arr): \n",
    "    f = open(\"spell_checked_usa.txt\", \"a\")\n",
    "    for i in arr:\n",
    "        f.write(i+'\\n')\n",
    "    f.close()"
   ]
  },
  {
   "cell_type": "code",
   "execution_count": 9,
   "metadata": {
    "scrolled": true
   },
   "outputs": [
    {
     "name": "stdout",
     "output_type": "stream",
     "text": [
      "Writing to File 0.0\n",
      "Writing to File 1.0\n",
      "Writing to File 2.0\n",
      "Writing to File 3.0\n",
      "Writing to File 4.0\n",
      "Writing to File 5.0\n",
      "Writing to File 6.0\n",
      "Writing to File 7.0\n",
      "Writing to File 8.0\n",
      "Writing to File 9.0\n",
      "Writing to File 10.0\n",
      "Writing to File 11.0\n",
      "Writing to File 12.0\n",
      "Writing to File 13.0\n",
      "Writing to File 14.0\n",
      "Writing to File 15.0\n",
      "Writing to File 16.0\n",
      "Writing to File 17.0\n",
      "Writing to File 18.0\n",
      "Writing to File 19.0\n",
      "Writing to File 20.0\n",
      "Writing to File 21.0\n",
      "Writing to File 22.0\n",
      "Writing to File 23.0\n",
      "Writing to File 24.0\n",
      "Writing to File 25.0\n",
      "Writing to File 26.0\n",
      "Writing to File 27.0\n",
      "Writing to File 28.0\n",
      "Writing to File 29.0\n",
      "Writing to File 30.0\n",
      "Writing to File 31.0\n",
      "Writing to File 32.0\n",
      "Writing to File 33.0\n",
      "Writing to File 34.0\n",
      "Writing to File 35.0\n",
      "Writing to File 36.0\n",
      "Writing to File 37.0\n",
      "Writing to File 38.0\n",
      "Writing to File 39.0\n",
      "Writing to File 40.0\n",
      "Writing to File 41.0\n",
      "Writing to File 42.0\n",
      "Writing to File 43.0\n",
      "Writing to File 44.0\n",
      "Writing to File 45.0\n",
      "Writing to File 46.0\n",
      "Writing to File 47.0\n",
      "Writing to File 48.0\n",
      "Writing to File 49.0\n",
      "Writing to File 50.0\n",
      "Writing to File 51.0\n",
      "Writing to File 52.0\n",
      "Writing to File 53.0\n",
      "Writing to File 54.0\n",
      "Writing to File 55.0\n",
      "Writing to File 56.0\n",
      "Writing to File 57.0\n",
      "Writing to File 58.0\n",
      "Writing to File 59.0\n",
      "Writing to File 60.0\n",
      "Writing to File 61.0\n",
      "Writing to File 62.0\n",
      "Writing to File 63.0\n",
      "Writing to File 64.0\n",
      "Writing to File 65.0\n",
      "Writing to File 66.0\n",
      "Writing to File 67.0\n",
      "Writing to File 68.0\n",
      "Writing to File 69.0\n",
      "Writing to File 70.0\n",
      "Writing to File 71.0\n",
      "Writing to File 72.0\n",
      "Writing to File 73.0\n",
      "Writing to File 74.0\n",
      "Writing to File 75.0\n",
      "Writing to File 76.0\n",
      "Writing to File 77.0\n",
      "Writing to File 78.0\n",
      "Writing to File 79.0\n",
      "Writing to File 80.0\n",
      "Writing to File 81.0\n",
      "Writing to File 82.0\n",
      "Writing to File 83.0\n",
      "Writing to File 84.0\n",
      "Writing to File 85.0\n",
      "Writing to File 86.0\n",
      "Writing to File 87.0\n",
      "Writing to File 88.0\n",
      "Writing to File 89.0\n",
      "Writing to File 90.0\n",
      "Writing to File 91.0\n",
      "Writing to File 92.0\n",
      "Writing to File 93.0\n",
      "Writing to File 94.0\n",
      "Writing to File 95.0\n",
      "Writing to File 96.0\n",
      "Writing to File 97.0\n",
      "Writing to File 98.0\n",
      "Writing to File 99.0\n",
      "Writing to File 100.0\n",
      "Writing to File 101.0\n",
      "Writing to File 102.0\n",
      "Writing to File 103.0\n",
      "Writing to File 104.0\n",
      "Writing to File 105.0\n",
      "Writing to File 106.0\n",
      "Writing to File 107.0\n",
      "Writing to File 108.0\n",
      "Writing to File 109.0\n",
      "Writing to File 110.0\n",
      "Writing to File 111.0\n",
      "Writing to File 112.0\n",
      "Writing to File 113.0\n",
      "Writing to File 114.0\n",
      "Writing to File 115.0\n",
      "Writing to File 116.0\n",
      "Writing to File 117.0\n",
      "Writing to File 118.0\n",
      "Writing to File 119.0\n",
      "Writing to File 120.0\n",
      "Writing to File 121.0\n",
      "Writing to File 122.0\n",
      "Writing to File 123.0\n",
      "Writing to File 124.0\n",
      "Writing to File 125.0\n",
      "Writing to File 126.0\n",
      "Writing to File 127.0\n",
      "Writing to File 128.0\n",
      "Writing to File 129.0\n",
      "Writing to File 130.0\n",
      "Writing to File 131.0\n",
      "Writing to File 132.0\n",
      "Writing to File 133.0\n",
      "Writing to File 134.0\n",
      "Writing to File 135.0\n",
      "Writing to File 136.0\n",
      "Writing to File 137.0\n",
      "Writing to File 138.0\n",
      "Writing to File 139.0\n",
      "Writing to File 140.0\n",
      "Writing to File 141.0\n",
      "Writing to File 142.0\n",
      "Writing to File 143.0\n",
      "Writing to File 144.0\n",
      "Writing to File 145.0\n",
      "Writing to File 146.0\n",
      "Writing to File 147.0\n",
      "Writing to File 148.0\n",
      "Writing to File 149.0\n",
      "Writing to File 150.0\n",
      "Writing to File 151.0\n",
      "Writing to File 152.0\n",
      "Writing to File 153.0\n",
      "Writing to File 154.0\n",
      "Writing to File 155.0\n",
      "Writing to File 156.0\n",
      "Writing to File 157.0\n",
      "Writing to File 158.0\n",
      "Writing to File 159.0\n",
      "Writing to File 160.0\n",
      "Writing to File 161.0\n",
      "Writing to File 162.0\n",
      "Writing to File 163.0\n",
      "Writing to File 164.0\n",
      "Writing to File 165.0\n",
      "Writing to File 166.0\n",
      "Writing to File 167.0\n",
      "Final Write\n"
     ]
    }
   ],
   "source": [
    "arr = []\n",
    "for i in range(orig_n):\n",
    "    arr.append(spellCheck(orig[\"Description\"][i]))\n",
    "    if (i%batch_size==0):\n",
    "        print(\"Writing to File \"+str(i/batch_size))\n",
    "        writeToFile(arr)\n",
    "        arr = []    \n",
    "print(\"Final Write\")\n",
    "writeToFile(arr)    \n"
   ]
  }
 ],
 "metadata": {
  "kernelspec": {
   "display_name": "Python 3",
   "language": "python",
   "name": "python3"
  },
  "language_info": {
   "codemirror_mode": {
    "name": "ipython",
    "version": 3
   },
   "file_extension": ".py",
   "mimetype": "text/x-python",
   "name": "python",
   "nbconvert_exporter": "python",
   "pygments_lexer": "ipython3",
   "version": "3.6.5"
  }
 },
 "nbformat": 4,
 "nbformat_minor": 4
}
